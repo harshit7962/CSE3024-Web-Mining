{
 "cells": [
  {
   "cell_type": "code",
   "execution_count": 1,
   "metadata": {},
   "outputs": [],
   "source": [
    "#Importing scrapper librariess\n",
    "from bs4 import BeautifulSoup\n",
    "import requests"
   ]
  },
  {
   "cell_type": "code",
   "execution_count": 2,
   "metadata": {},
   "outputs": [],
   "source": [
    "#Scrapping the website\n",
    "url = \"https://www.flipkart.com/search?q=apple&otracker=search&otracker1=search&marketplace=FLIPKART&as-show=on&as=off\"\n",
    "page = requests.get(url).text\n",
    "soup = BeautifulSoup(page, 'html.parser')\n",
    "tags = soup.find_all('div', class_=\"_1AtVbE col-12-12\")"
   ]
  },
  {
   "cell_type": "code",
   "execution_count": 3,
   "metadata": {},
   "outputs": [
    {
     "name": "stdout",
     "output_type": "stream",
     "text": [
      "\u001b[37mScraping data \u001b[32mdone...\n"
     ]
    }
   ],
   "source": [
    "#Creating csv\n",
    "from csv import writer\n",
    "import colorama\n",
    "from colorama import Fore\n",
    "print(Fore.YELLOW+\"Scraping data \"+Fore.GREEN+\"done...\")\n",
    "with open('result2.csv','w', encoding='utf8',newline='') as f:\n",
    "    thewriter = writer(f)\n",
    "    header = ['Name','Price','Discount','Image']\n",
    "    thewriter.writerow(header)\n",
    "    for tag in tags:\n",
    "        name = getattr(tag.find('div',class_=\"_4rR01T\"),'text', None)\n",
    "        price = getattr(tag.find('div', class_=\"_30jeq3 _1_WHN1\"),'text', None)\n",
    "        discount = getattr(tag.find('div',class_=\"_3Ay6Sb\"),'text', None)\n",
    "        image = tag.find('img', class_=\"_396cs4 _3exPp9\")\n",
    "        info = [name, price, discount, image]\n",
    "        thewriter.writerow(info)"
   ]
  },
  {
   "cell_type": "code",
   "execution_count": 5,
   "metadata": {},
   "outputs": [
    {
     "name": "stdout",
     "output_type": "stream",
     "text": [
      "\u001b[33mSuccessfully scrapped data!! Results in \u001b[32mresult.csv\n"
     ]
    }
   ],
   "source": [
    "print(Fore.YELLOW+\"Successfully scrapped data!! Results in \" + Fore.GREEN+\"result.csv\")"
   ]
  },
  {
   "cell_type": "code",
   "execution_count": null,
   "metadata": {},
   "outputs": [],
   "source": []
  }
 ],
 "metadata": {
  "kernelspec": {
   "display_name": "Python 3",
   "language": "python",
   "name": "python3"
  },
  "language_info": {
   "codemirror_mode": {
    "name": "ipython",
    "version": 3
   },
   "file_extension": ".py",
   "mimetype": "text/x-python",
   "name": "python",
   "nbconvert_exporter": "python",
   "pygments_lexer": "ipython3",
   "version": "3.8.3"
  }
 },
 "nbformat": 4,
 "nbformat_minor": 4
}
