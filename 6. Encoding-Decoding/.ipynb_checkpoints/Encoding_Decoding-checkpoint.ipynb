{
 "cells": [
  {
   "cell_type": "code",
   "execution_count": 1,
   "metadata": {},
   "outputs": [],
   "source": [
    "#Importing Library\n",
    "import numpy as np"
   ]
  },
  {
   "cell_type": "code",
   "execution_count": 2,
   "metadata": {},
   "outputs": [],
   "source": [
    "#Converting Integer to Binary\n",
    "def intToBin(var):\n",
    "    return bin(var).split(\"0b\")[1]"
   ]
  },
  {
   "cell_type": "code",
   "execution_count": 3,
   "metadata": {},
   "outputs": [],
   "source": [
    "#Converting Binary to Integer\n",
    "def binToInt(var):\n",
    "    return int(var, 2)"
   ]
  },
  {
   "cell_type": "code",
   "execution_count": 4,
   "metadata": {},
   "outputs": [],
   "source": [
    "#Unary Encoding\n",
    "def unaryEncoding(var):\n",
    "    unary = \"\"\n",
    "    for i in range(var-1):\n",
    "        unary='0'+unary\n",
    "    unary=unary+'1'\n",
    "    return unary"
   ]
  },
  {
   "cell_type": "code",
   "execution_count": 5,
   "metadata": {},
   "outputs": [],
   "source": [
    "#Unary Decoding\n",
    "def unaryDecoding(var):\n",
    "    counter=0\n",
    "    while(var[0]=='0'):\n",
    "        var=var[1:]\n",
    "        counter=counter+1\n",
    "    return counter+1"
   ]
  },
  {
   "cell_type": "code",
   "execution_count": 6,
   "metadata": {},
   "outputs": [],
   "source": [
    "#Elias Gamma Encoding\n",
    "def eliasGammaEncoding(var):\n",
    "    var = intToBin(var)\n",
    "    n=len(var)-1\n",
    "    for i in range(n):\n",
    "        var = '0'+var\n",
    "    return var"
   ]
  },
  {
   "cell_type": "code",
   "execution_count": 7,
   "metadata": {},
   "outputs": [],
   "source": [
    "#Elias Gamma Decoding\n",
    "def eliasGammaDecoding(var):\n",
    "    counter=0\n",
    "    while(var[0]=='0'):\n",
    "        var=var[1:]\n",
    "        counter=counter+1\n",
    "    var=var[0:counter+1:1]\n",
    "    return binToInt(var)"
   ]
  },
  {
   "cell_type": "code",
   "execution_count": 8,
   "metadata": {},
   "outputs": [],
   "source": [
    "#Elias Delta Encoding\n",
    "def eliasDeltaEncoding(var):\n",
    "    selector = eliasGammaEncoding(1+int(np.log2(var)))\n",
    "    var = intToBin(var)\n",
    "    offset=\"\"\n",
    "    for i in range(1, len(var)):\n",
    "        offset=offset+var[i]\n",
    "    return (selector+offset)"
   ]
  },
  {
   "cell_type": "code",
   "execution_count": 9,
   "metadata": {},
   "outputs": [],
   "source": [
    "#Elias Delta Decoding\n",
    "def eliasDeltaDecoding(var):\n",
    "    Nbits=eliasGammaDecoding(var)-1\n",
    "    ans=\"\"\n",
    "    for i in range(Nbits):\n",
    "        ans=var[-(i+1)]+ans\n",
    "    return binToInt('1'+ans)"
   ]
  },
  {
   "cell_type": "code",
   "execution_count": 10,
   "metadata": {},
   "outputs": [],
   "source": [
    "#Golomb Encoding\n",
    "def golombEncoding(var, b):\n",
    "    quotientunary=unaryEncoding(int(var/b) +1)\n",
    "    remainder=var%b\n",
    "    i=int(np.log2(b))\n",
    "    d= (2**(i+1))-b\n",
    "    if (remainder<d):\n",
    "        r = intToBin(remainder)\n",
    "        while len(r)<i:\n",
    "            r='0'+r\n",
    "    else:\n",
    "        r=intToBin(remainder+d)\n",
    "        while len(r)<i+1:\n",
    "            r='0'+r\n",
    "    return quotientunary+r\n"
   ]
  },
  {
   "cell_type": "code",
   "execution_count": 11,
   "metadata": {},
   "outputs": [],
   "source": [
    "#Golomb Decoding\n",
    "def golombDecoding(var, b):\n",
    "    quotient=unaryDecoding(var)-1\n",
    "    i=int(np.log2(b))\n",
    "    d=(2**(i+1))-b\n",
    "    counter=0\n",
    "    while (var[0]=='0'):\n",
    "        var=var[1:]\n",
    "        counter=counter+1\n",
    "    var=var[1:]\n",
    "    remainder=var[0:i]\n",
    "    remainder=binToInt(remainder)\n",
    "    if (remainder>=d):\n",
    "        remainder=intToBin(remainder)\n",
    "        remainder=var[0:i+1]\n",
    "        remainder=binToInt(remainder)-d\n",
    "    ans=quotient*b+remainder\n",
    "    return ans"
   ]
  },
  {
   "cell_type": "code",
   "execution_count": 12,
   "metadata": {},
   "outputs": [
    {
     "name": "stdout",
     "output_type": "stream",
     "text": [
      "\n",
      "\n",
      "Number= 2\n",
      "\tUnaryEncoding:  01\n",
      "\tElias Gamma Encoding:  010\n",
      "\tElias Delta Encoding:  0100\n",
      "\tGoloumb Encoding:  1010\n",
      "\tUnary Decoding: 2\n",
      "\tElias Gamma Decoding: 2\n",
      "\tElias Delta Decoding: 2\n",
      "\tGolomb Decoding: 2\n",
      "\n",
      "\n",
      "Number= 4\n",
      "\tUnaryEncoding:  0001\n",
      "\tElias Gamma Encoding:  00100\n",
      "\tElias Delta Encoding:  01100\n",
      "\tGoloumb Encoding:  1100\n",
      "\tUnary Decoding: 4\n",
      "\tElias Gamma Decoding: 4\n",
      "\tElias Delta Decoding: 4\n",
      "\tGolomb Decoding: 4\n",
      "\n",
      "\n",
      "Number= 6\n",
      "\tUnaryEncoding:  000001\n",
      "\tElias Gamma Encoding:  00110\n",
      "\tElias Delta Encoding:  01110\n",
      "\tGoloumb Encoding:  11100\n",
      "\tUnary Decoding: 6\n",
      "\tElias Gamma Decoding: 6\n",
      "\tElias Delta Decoding: 6\n",
      "\tGolomb Decoding: 6\n",
      "\n",
      "\n",
      "Number= 8\n",
      "\tUnaryEncoding:  00000001\n",
      "\tElias Gamma Encoding:  0001000\n",
      "\tElias Delta Encoding:  00100000\n",
      "\tGoloumb Encoding:  11110\n",
      "\tUnary Decoding: 8\n",
      "\tElias Gamma Decoding: 8\n",
      "\tElias Delta Decoding: 8\n",
      "\tGolomb Decoding: 8\n",
      "\n",
      "\n",
      "Number= 10\n",
      "\tUnaryEncoding:  0000000001\n",
      "\tElias Gamma Encoding:  0001010\n",
      "\tElias Delta Encoding:  00100010\n",
      "\tGoloumb Encoding:  01000\n",
      "\tUnary Decoding: 10\n",
      "\tElias Gamma Decoding: 10\n",
      "\tElias Delta Decoding: 10\n",
      "\tGolomb Decoding: 10\n",
      "\n",
      "\n",
      "Number= 12\n",
      "\tUnaryEncoding:  000000000001\n",
      "\tElias Gamma Encoding:  0001100\n",
      "\tElias Delta Encoding:  00100100\n",
      "\tGoloumb Encoding:  01010\n",
      "\tUnary Decoding: 12\n",
      "\tElias Gamma Decoding: 12\n",
      "\tElias Delta Decoding: 12\n",
      "\tGolomb Decoding: 12\n",
      "\n",
      "\n",
      "Number= 14\n",
      "\tUnaryEncoding:  00000000000001\n",
      "\tElias Gamma Encoding:  0001110\n",
      "\tElias Delta Encoding:  00100110\n",
      "\tGoloumb Encoding:  01100\n",
      "\tUnary Decoding: 14\n",
      "\tElias Gamma Decoding: 14\n",
      "\tElias Delta Decoding: 14\n",
      "\tGolomb Decoding: 14\n",
      "\n",
      "\n",
      "Number= 16\n",
      "\tUnaryEncoding:  0000000000000001\n",
      "\tElias Gamma Encoding:  000010000\n",
      "\tElias Delta Encoding:  001010000\n",
      "\tGoloumb Encoding:  011100\n",
      "\tUnary Decoding: 16\n",
      "\tElias Gamma Decoding: 16\n",
      "\tElias Delta Decoding: 16\n",
      "\tGolomb Decoding: 16\n",
      "\n",
      "\n",
      "Number= 18\n",
      "\tUnaryEncoding:  000000000000000001\n",
      "\tElias Gamma Encoding:  000010010\n",
      "\tElias Delta Encoding:  001010010\n",
      "\tGoloumb Encoding:  011110\n",
      "\tUnary Decoding: 18\n",
      "\tElias Gamma Decoding: 18\n",
      "\tElias Delta Decoding: 18\n",
      "\tGolomb Decoding: 18\n",
      "\n",
      "\n",
      "Number= 20\n",
      "\tUnaryEncoding:  00000000000000000001\n",
      "\tElias Gamma Encoding:  000010100\n",
      "\tElias Delta Encoding:  001010100\n",
      "\tGoloumb Encoding:  001000\n",
      "\tUnary Decoding: 20\n",
      "\tElias Gamma Decoding: 20\n",
      "\tElias Delta Decoding: 20\n",
      "\tGolomb Decoding: 20\n"
     ]
    }
   ],
   "source": [
    "for i in range(2,21,2):\n",
    "    print(\"\\n\\nNumber=\",i)\n",
    "    UE = unaryEncoding(i)\n",
    "    print(\"\\tUnaryEncoding: \", UE)\n",
    "    EGE=eliasGammaEncoding(i)\n",
    "    print(\"\\tElias Gamma Encoding: \",EGE)\n",
    "    EDE=eliasDeltaEncoding(i)\n",
    "    print(\"\\tElias Delta Encoding: \",EDE)\n",
    "    GE=golombEncoding(i,10)\n",
    "    print(\"\\tGoloumb Encoding: \",GE)\n",
    "    print(\"\\tUnary Decoding:\", unaryDecoding(UE))\n",
    "    print(\"\\tElias Gamma Decoding:\", eliasGammaDecoding(EGE))\n",
    "    print(\"\\tElias Delta Decoding:\", eliasDeltaDecoding(EDE))\n",
    "    print(\"\\tGolomb Decoding:\", golombDecoding(GE,10))"
   ]
  },
  {
   "cell_type": "code",
   "execution_count": null,
   "metadata": {},
   "outputs": [],
   "source": []
  }
 ],
 "metadata": {
  "kernelspec": {
   "display_name": "Python 3",
   "language": "python",
   "name": "python3"
  },
  "language_info": {
   "codemirror_mode": {
    "name": "ipython",
    "version": 3
   },
   "file_extension": ".py",
   "mimetype": "text/x-python",
   "name": "python",
   "nbconvert_exporter": "python",
   "pygments_lexer": "ipython3",
   "version": "3.8.3"
  }
 },
 "nbformat": 4,
 "nbformat_minor": 4
}
