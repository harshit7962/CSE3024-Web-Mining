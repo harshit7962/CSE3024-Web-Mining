{
 "cells": [
  {
   "cell_type": "code",
   "execution_count": 1,
   "metadata": {},
   "outputs": [],
   "source": [
    "#Importing Libraries\n",
    "import math\n",
    "from textblob import TextBlob as tb"
   ]
  },
  {
   "cell_type": "code",
   "execution_count": 2,
   "metadata": {},
   "outputs": [],
   "source": [
    "#Creating the Term Frequency return function\n",
    "def tf(word, blob):\n",
    "    return blob.words.count(word)"
   ]
  },
  {
   "cell_type": "code",
   "execution_count": 3,
   "metadata": {},
   "outputs": [],
   "source": [
    "#Creaeting containing function\n",
    "def n_containing(word, bloblist):\n",
    "    return sum(1 for blob in bloblist if word in blob.words)"
   ]
  },
  {
   "cell_type": "code",
   "execution_count": 4,
   "metadata": {},
   "outputs": [],
   "source": [
    "#Function to return Inverse Document Frequency\n",
    "def idf(word, bloblist):\n",
    "    return math.log(len(bloblist))/(1+n_containing(word, bloblist))"
   ]
  },
  {
   "cell_type": "code",
   "execution_count": 5,
   "metadata": {},
   "outputs": [],
   "source": [
    "#Function to return Term Frequency-Inverse Document Frequency\n",
    "def tfidf(word, blob, bloblist):\n",
    "    return tf(word, blob) * idf(word, bloblist)"
   ]
  },
  {
   "cell_type": "code",
   "execution_count": 6,
   "metadata": {},
   "outputs": [],
   "source": [
    "#Reading First Input File\n",
    "with open('Test1.txt') as a:\n",
    "    test1 = (a.read())\n",
    "document1 = tb(test1)"
   ]
  },
  {
   "cell_type": "code",
   "execution_count": 7,
   "metadata": {},
   "outputs": [],
   "source": [
    "#Reading Second Input File\n",
    "with open('Test2.txt') as a:\n",
    "    test2 = (a.read())\n",
    "document2 = tb(test2)"
   ]
  },
  {
   "cell_type": "code",
   "execution_count": 8,
   "metadata": {},
   "outputs": [],
   "source": [
    "#Reading Third Input File\n",
    "with open('Test3.txt') as a:\n",
    "    test3 = (a.read())\n",
    "document3 = tb(test3)"
   ]
  },
  {
   "cell_type": "code",
   "execution_count": 9,
   "metadata": {},
   "outputs": [],
   "source": [
    "#Reading Fourth Input File\n",
    "with open('Test4.txt') as a:\n",
    "    test4 = (a.read())\n",
    "document4 = tb(test4)"
   ]
  },
  {
   "cell_type": "code",
   "execution_count": 10,
   "metadata": {},
   "outputs": [],
   "source": [
    "#Reading Fifth Input File\n",
    "with open('Test5.txt') as a:\n",
    "    test5 = (a.read())\n",
    "document5 = tb(test5)"
   ]
  },
  {
   "cell_type": "code",
   "execution_count": 11,
   "metadata": {},
   "outputs": [
    {
     "name": "stdout",
     "output_type": "stream",
     "text": [
      "Top words in document 1\n",
      "\tWord: Mining, TF-IDF: 1.07296\n",
      "\tWord: process, TF-IDF: 0.80472\n",
      "\tWord: Data, TF-IDF: 0.80472\n",
      "Top words in document 2\n",
      "\tWord: The, TF-IDF: 1.60944\n",
      "\tWord: main, TF-IDF: 0.80472\n",
      "\tWord: purpose, TF-IDF: 0.80472\n",
      "Top words in document 3\n",
      "\tWord: web, TF-IDF: 1.60944\n",
      "\tWord: Web, TF-IDF: 1.07296\n",
      "\tWord: the, TF-IDF: 0.96566\n",
      "Top words in document 4\n",
      "\tWord: Mining, TF-IDF: 2.6824\n",
      "\tWord: mining, TF-IDF: 1.60944\n",
      "\tWord: Web, TF-IDF: 1.07296\n",
      "Top words in document 5\n",
      "\tWord: content, TF-IDF: 3.21888\n",
      "\tWord: Content, TF-IDF: 2.14592\n",
      "\tWord: web, TF-IDF: 1.60944\n"
     ]
    }
   ],
   "source": [
    "#Printing the top three words in each document\n",
    "bloblist = [document1, document2, document3, document4, document5]\n",
    "for i, blob in enumerate(bloblist):\n",
    "    print(\"Top words in document {}\". format(i+1))\n",
    "    scores = {word: tfidf(word, blob,bloblist) for word in blob.words}\n",
    "    sorted_words = sorted(scores.items(), key=lambda x:x[1], reverse=True)\n",
    "    for word, score in sorted_words[:3]:\n",
    "        print(\"\\tWord: {}, TF-IDF: {}\".format(word, round(score, 5)))"
   ]
  },
  {
   "cell_type": "code",
   "execution_count": 12,
   "metadata": {},
   "outputs": [],
   "source": [
    "#Calculating Cosine Similarity\n",
    "from sklearn.feature_extraction.text import CountVectorizer\n",
    "import pandas as pd\n",
    "documents = [test1, test2, test3, test4, test5]"
   ]
  },
  {
   "cell_type": "code",
   "execution_count": 13,
   "metadata": {},
   "outputs": [],
   "source": [
    "#Creating the Document Term Matrix\n",
    "count_vectorizer = CountVectorizer()\n",
    "sparse_matrix = count_vectorizer.fit_transform(documents)"
   ]
  },
  {
   "cell_type": "code",
   "execution_count": 14,
   "metadata": {},
   "outputs": [
    {
     "data": {
      "text/html": [
       "<div>\n",
       "<style scoped>\n",
       "    .dataframe tbody tr th:only-of-type {\n",
       "        vertical-align: middle;\n",
       "    }\n",
       "\n",
       "    .dataframe tbody tr th {\n",
       "        vertical-align: top;\n",
       "    }\n",
       "\n",
       "    .dataframe thead th {\n",
       "        text-align: right;\n",
       "    }\n",
       "</style>\n",
       "<table border=\"1\" class=\"dataframe\">\n",
       "  <thead>\n",
       "    <tr style=\"text-align: right;\">\n",
       "      <th></th>\n",
       "      <th>and</th>\n",
       "      <th>application</th>\n",
       "      <th>audio</th>\n",
       "      <th>automatically</th>\n",
       "      <th>be</th>\n",
       "      <th>broadly</th>\n",
       "      <th>by</th>\n",
       "      <th>can</th>\n",
       "      <th>classifying</th>\n",
       "      <th>consist</th>\n",
       "      <th>...</th>\n",
       "      <th>the</th>\n",
       "      <th>three</th>\n",
       "      <th>to</th>\n",
       "      <th>types</th>\n",
       "      <th>usage</th>\n",
       "      <th>useful</th>\n",
       "      <th>video</th>\n",
       "      <th>web</th>\n",
       "      <th>wide</th>\n",
       "      <th>world</th>\n",
       "    </tr>\n",
       "  </thead>\n",
       "  <tbody>\n",
       "    <tr>\n",
       "      <th>test1</th>\n",
       "      <td>2</td>\n",
       "      <td>0</td>\n",
       "      <td>0</td>\n",
       "      <td>1</td>\n",
       "      <td>0</td>\n",
       "      <td>0</td>\n",
       "      <td>0</td>\n",
       "      <td>0</td>\n",
       "      <td>0</td>\n",
       "      <td>0</td>\n",
       "      <td>...</td>\n",
       "      <td>1</td>\n",
       "      <td>0</td>\n",
       "      <td>1</td>\n",
       "      <td>0</td>\n",
       "      <td>0</td>\n",
       "      <td>0</td>\n",
       "      <td>0</td>\n",
       "      <td>2</td>\n",
       "      <td>0</td>\n",
       "      <td>0</td>\n",
       "    </tr>\n",
       "    <tr>\n",
       "      <th>test2</th>\n",
       "      <td>1</td>\n",
       "      <td>0</td>\n",
       "      <td>0</td>\n",
       "      <td>0</td>\n",
       "      <td>0</td>\n",
       "      <td>0</td>\n",
       "      <td>0</td>\n",
       "      <td>0</td>\n",
       "      <td>0</td>\n",
       "      <td>0</td>\n",
       "      <td>...</td>\n",
       "      <td>2</td>\n",
       "      <td>0</td>\n",
       "      <td>0</td>\n",
       "      <td>0</td>\n",
       "      <td>1</td>\n",
       "      <td>1</td>\n",
       "      <td>0</td>\n",
       "      <td>2</td>\n",
       "      <td>1</td>\n",
       "      <td>1</td>\n",
       "    </tr>\n",
       "    <tr>\n",
       "      <th>test3</th>\n",
       "      <td>1</td>\n",
       "      <td>0</td>\n",
       "      <td>0</td>\n",
       "      <td>0</td>\n",
       "      <td>0</td>\n",
       "      <td>0</td>\n",
       "      <td>1</td>\n",
       "      <td>0</td>\n",
       "      <td>1</td>\n",
       "      <td>0</td>\n",
       "      <td>...</td>\n",
       "      <td>3</td>\n",
       "      <td>0</td>\n",
       "      <td>1</td>\n",
       "      <td>0</td>\n",
       "      <td>0</td>\n",
       "      <td>0</td>\n",
       "      <td>0</td>\n",
       "      <td>4</td>\n",
       "      <td>0</td>\n",
       "      <td>0</td>\n",
       "    </tr>\n",
       "    <tr>\n",
       "      <th>test4</th>\n",
       "      <td>1</td>\n",
       "      <td>0</td>\n",
       "      <td>0</td>\n",
       "      <td>0</td>\n",
       "      <td>1</td>\n",
       "      <td>1</td>\n",
       "      <td>0</td>\n",
       "      <td>1</td>\n",
       "      <td>0</td>\n",
       "      <td>0</td>\n",
       "      <td>...</td>\n",
       "      <td>0</td>\n",
       "      <td>1</td>\n",
       "      <td>0</td>\n",
       "      <td>1</td>\n",
       "      <td>1</td>\n",
       "      <td>0</td>\n",
       "      <td>0</td>\n",
       "      <td>4</td>\n",
       "      <td>0</td>\n",
       "      <td>0</td>\n",
       "    </tr>\n",
       "    <tr>\n",
       "      <th>test5</th>\n",
       "      <td>0</td>\n",
       "      <td>1</td>\n",
       "      <td>1</td>\n",
       "      <td>0</td>\n",
       "      <td>0</td>\n",
       "      <td>0</td>\n",
       "      <td>0</td>\n",
       "      <td>0</td>\n",
       "      <td>0</td>\n",
       "      <td>1</td>\n",
       "      <td>...</td>\n",
       "      <td>4</td>\n",
       "      <td>0</td>\n",
       "      <td>0</td>\n",
       "      <td>1</td>\n",
       "      <td>0</td>\n",
       "      <td>1</td>\n",
       "      <td>1</td>\n",
       "      <td>4</td>\n",
       "      <td>0</td>\n",
       "      <td>0</td>\n",
       "    </tr>\n",
       "  </tbody>\n",
       "</table>\n",
       "<p>5 rows × 59 columns</p>\n",
       "</div>"
      ],
      "text/plain": [
       "       and  application  audio  automatically  be  broadly  by  can  \\\n",
       "test1    2            0      0              1   0        0   0    0   \n",
       "test2    1            0      0              0   0        0   0    0   \n",
       "test3    1            0      0              0   0        0   1    0   \n",
       "test4    1            0      0              0   1        1   0    1   \n",
       "test5    0            1      1              0   0        0   0    0   \n",
       "\n",
       "       classifying  consist  ...  the  three  to  types  usage  useful  video  \\\n",
       "test1            0        0  ...    1      0   1      0      0       0      0   \n",
       "test2            0        0  ...    2      0   0      0      1       1      0   \n",
       "test3            1        0  ...    3      0   1      0      0       0      0   \n",
       "test4            0        0  ...    0      1   0      1      1       0      0   \n",
       "test5            0        1  ...    4      0   0      1      0       1      1   \n",
       "\n",
       "       web  wide  world  \n",
       "test1    2     0      0  \n",
       "test2    2     1      1  \n",
       "test3    4     0      0  \n",
       "test4    4     0      0  \n",
       "test5    4     0      0  \n",
       "\n",
       "[5 rows x 59 columns]"
      ]
     },
     "execution_count": 14,
     "metadata": {},
     "output_type": "execute_result"
    }
   ],
   "source": [
    "#Creating a dataframe to store each count_vectorizer\n",
    "doc_term_matrix = sparse_matrix.todense()\n",
    "df = pd.DataFrame(doc_term_matrix,\n",
    "                 columns=count_vectorizer.get_feature_names(),\n",
    "                 index=['test1', 'test2','test3', 'test4', 'test5'])\n",
    "df"
   ]
  },
  {
   "cell_type": "code",
   "execution_count": 15,
   "metadata": {},
   "outputs": [
    {
     "name": "stdout",
     "output_type": "stream",
     "text": [
      "[[1.         0.57250257 0.56526686 0.59228013 0.51430904]\n",
      " [0.57250257 1.         0.56761348 0.46544783 0.56707589]\n",
      " [0.56526686 0.56761348 1.         0.50462056 0.54435574]\n",
      " [0.59228013 0.46544783 0.50462056 1.         0.45912989]\n",
      " [0.51430904 0.56707589 0.54435574 0.45912989 1.        ]]\n"
     ]
    }
   ],
   "source": [
    "#Printing the Cosine Similarity\n",
    "from sklearn.metrics.pairwise import cosine_similarity\n",
    "print(cosine_similarity(df, df))"
   ]
  }
 ],
 "metadata": {
  "kernelspec": {
   "display_name": "Python 3",
   "language": "python",
   "name": "python3"
  },
  "language_info": {
   "codemirror_mode": {
    "name": "ipython",
    "version": 3
   },
   "file_extension": ".py",
   "mimetype": "text/x-python",
   "name": "python",
   "nbconvert_exporter": "python",
   "pygments_lexer": "ipython3",
   "version": "3.8.3"
  }
 },
 "nbformat": 4,
 "nbformat_minor": 4
}
