{
 "cells": [
  {
   "cell_type": "code",
   "execution_count": 1,
   "metadata": {},
   "outputs": [],
   "source": [
    "#Importing libraries\n",
    "import scipy\n",
    "from scipy import sparse\n",
    "import numpy"
   ]
  },
  {
   "cell_type": "code",
   "execution_count": 2,
   "metadata": {},
   "outputs": [],
   "source": [
    "#Computing Page Rank function\n",
    "def computePageRank(links, c=0.85, iteration=7):\n",
    "    count = 0\n",
    "    ones = numpy.ones(len(links))\n",
    "    sources = [x[0] for x in links]\n",
    "    targets = [x[1] for x in links]\n",
    "    n = max(max(sources), max(targets))+1\n",
    "    HT = sparse.coo_matrix((ones, (targets, sources)), shape=(n,n))\n",
    "    num_outlinks = numpy.array(HT.sum(axis=0)).flatten()\n",
    "    HT.data/=num_outlinks[sources]\n",
    "    d_indices = numpy.where(num_outlinks == 0)[0]\n",
    "    r = numpy.ones(n)/n\n",
    "    while True:\n",
    "        previous_r = r\n",
    "        r = c * (HT * r + sum(r[d_indices])/n) + (1.0 - c)/n\n",
    "        #r.sum() ≈ 1 but prevent errors from adding up.\n",
    "        r /= r.sum()\n",
    "        count = count+1\n",
    "        if(count >iteration):\n",
    "            #if scipy.absolute(r - previous_r).sum() < epsilon:\n",
    "            return r"
   ]
  },
  {
   "cell_type": "code",
   "execution_count": 3,
   "metadata": {},
   "outputs": [
    {
     "name": "stdout",
     "output_type": "stream",
     "text": [
      "[0.05276657 0.07551812 0.05864201 0.34644978 0.19951605 0.26710748]\n"
     ]
    }
   ],
   "source": [
    "print(computePageRank([(0,1), (0,2), (2,0),(2, 1),(2, 4),(3, 4),(3,5),(4,3),(4,5), (5,3) ]))"
   ]
  },
  {
   "cell_type": "code",
   "execution_count": 4,
   "metadata": {},
   "outputs": [
    {
     "data": {
      "text/plain": [
       "1.00000001"
      ]
     },
     "execution_count": 4,
     "metadata": {},
     "output_type": "execute_result"
    }
   ],
   "source": []
  },
  {
   "cell_type": "code",
   "execution_count": null,
   "metadata": {},
   "outputs": [],
   "source": []
  }
 ],
 "metadata": {
  "kernelspec": {
   "display_name": "Python 3",
   "language": "python",
   "name": "python3"
  },
  "language_info": {
   "codemirror_mode": {
    "name": "ipython",
    "version": 3
   },
   "file_extension": ".py",
   "mimetype": "text/x-python",
   "name": "python",
   "nbconvert_exporter": "python",
   "pygments_lexer": "ipython3",
   "version": "3.8.3"
  }
 },
 "nbformat": 4,
 "nbformat_minor": 4
}
